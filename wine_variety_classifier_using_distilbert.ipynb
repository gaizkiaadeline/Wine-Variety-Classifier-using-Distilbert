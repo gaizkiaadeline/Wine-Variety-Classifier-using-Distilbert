{
  "cells": [
    {
      "cell_type": "code",
      "execution_count": null,
      "metadata": {
        "colab": {
          "base_uri": "https://localhost:8080/"
        },
        "execution": {
          "iopub.execute_input": "2024-06-21T14:21:38.711514Z",
          "iopub.status.busy": "2024-06-21T14:21:38.710658Z",
          "iopub.status.idle": "2024-06-21T14:21:38.716726Z",
          "shell.execute_reply": "2024-06-21T14:21:38.715646Z",
          "shell.execute_reply.started": "2024-06-21T14:21:38.711480Z"
        },
        "id": "Gmrxr0sPz-cJ",
        "outputId": "5afe3ee0-30be-43c7-b526-625f28dc9457",
        "trusted": true
      },
      "outputs": [
        {
          "name": "stdout",
          "output_type": "stream",
          "text": [
            "True\n"
          ]
        }
      ],
      "source": [
        "import torch\n",
        "\n",
        "print(torch.cuda.is_available())"
      ]
    },
    {
      "cell_type": "markdown",
      "source": [
        "# **Data Exploration**"
      ],
      "metadata": {
        "id": "Ol70ES55YTHK"
      }
    },
    {
      "cell_type": "code",
      "execution_count": null,
      "metadata": {
        "colab": {
          "base_uri": "https://localhost:8080/"
        },
        "execution": {
          "iopub.execute_input": "2024-06-21T14:21:38.718920Z",
          "iopub.status.busy": "2024-06-21T14:21:38.718618Z",
          "iopub.status.idle": "2024-06-21T14:21:39.711055Z",
          "shell.execute_reply": "2024-06-21T14:21:39.710022Z",
          "shell.execute_reply.started": "2024-06-21T14:21:38.718895Z"
        },
        "id": "OxzKnhbYz-cK",
        "outputId": "688b0f1a-9621-4397-93ba-ba4ac2443c40",
        "trusted": true
      },
      "outputs": [
        {
          "name": "stdout",
          "output_type": "stream",
          "text": [
            "<class 'pandas.core.frame.DataFrame'>\n",
            "RangeIndex: 150930 entries, 0 to 150929\n",
            "Data columns (total 11 columns):\n",
            " #   Column       Non-Null Count   Dtype  \n",
            "---  ------       --------------   -----  \n",
            " 0   Unnamed: 0   150930 non-null  int64  \n",
            " 1   country      150925 non-null  object \n",
            " 2   description  150930 non-null  object \n",
            " 3   designation  105195 non-null  object \n",
            " 4   points       150930 non-null  int64  \n",
            " 5   price        137235 non-null  float64\n",
            " 6   province     150925 non-null  object \n",
            " 7   region_1     125870 non-null  object \n",
            " 8   region_2     60953 non-null   object \n",
            " 9   variety      150930 non-null  object \n",
            " 10  winery       150930 non-null  object \n",
            "dtypes: float64(1), int64(2), object(8)\n",
            "memory usage: 12.7+ MB\n"
          ]
        }
      ],
      "source": [
        "import pandas as pd\n",
        "\n",
        "wine_df = pd.read_csv('/kaggle/input/wine-reviews-dataset-first-150k/winemag-data_first150k.csv')\n",
        "wine_df.info()"
      ]
    },
    {
      "cell_type": "code",
      "execution_count": null,
      "metadata": {
        "colab": {
          "base_uri": "https://localhost:8080/"
        },
        "execution": {
          "iopub.execute_input": "2024-06-21T14:21:39.712562Z",
          "iopub.status.busy": "2024-06-21T14:21:39.712257Z",
          "iopub.status.idle": "2024-06-21T14:21:39.829494Z",
          "shell.execute_reply": "2024-06-21T14:21:39.828412Z",
          "shell.execute_reply.started": "2024-06-21T14:21:39.712536Z"
        },
        "id": "F7xWcQ-5z-cL",
        "outputId": "90fb64d4-69a0-4a93-c47e-2cf676179899",
        "trusted": true
      },
      "outputs": [
        {
          "data": {
            "text/plain": [
              "Unnamed: 0         0\n",
              "country            5\n",
              "description        0\n",
              "designation    45735\n",
              "points             0\n",
              "price          13695\n",
              "province           5\n",
              "region_1       25060\n",
              "region_2       89977\n",
              "variety            0\n",
              "winery             0\n",
              "dtype: int64"
            ]
          },
          "execution_count": 42,
          "metadata": {},
          "output_type": "execute_result"
        }
      ],
      "source": [
        "wine_df.isna().sum()"
      ]
    },
    {
      "cell_type": "code",
      "execution_count": null,
      "metadata": {
        "colab": {
          "base_uri": "https://localhost:8080/"
        },
        "execution": {
          "iopub.execute_input": "2024-06-21T14:21:39.831170Z",
          "iopub.status.busy": "2024-06-21T14:21:39.830873Z",
          "iopub.status.idle": "2024-06-21T14:21:39.919577Z",
          "shell.execute_reply": "2024-06-21T14:21:39.918662Z",
          "shell.execute_reply.started": "2024-06-21T14:21:39.831147Z"
        },
        "id": "wnpab95tz-cL",
        "outputId": "3582c852-2fdd-4ba5-83b2-1ad50bf349d5",
        "trusted": true
      },
      "outputs": [
        {
          "name": "stdout",
          "output_type": "stream",
          "text": [
            "<class 'pandas.core.frame.DataFrame'>\n",
            "RangeIndex: 150930 entries, 0 to 150929\n",
            "Data columns (total 2 columns):\n",
            " #   Column       Non-Null Count   Dtype \n",
            "---  ------       --------------   ----- \n",
            " 0   description  150930 non-null  object\n",
            " 1   variety      150930 non-null  object\n",
            "dtypes: object(2)\n",
            "memory usage: 2.3+ MB\n"
          ]
        }
      ],
      "source": [
        "wine_df = wine_df[['description', 'variety']]\n",
        "wine_df = wine_df.dropna()\n",
        "wine_df.info()"
      ]
    },
    {
      "cell_type": "markdown",
      "source": [
        "# **Data Preprocessing**"
      ],
      "metadata": {
        "id": "keIMbBD-Yomh"
      }
    },
    {
      "cell_type": "code",
      "execution_count": null,
      "metadata": {
        "colab": {
          "base_uri": "https://localhost:8080/"
        },
        "execution": {
          "iopub.execute_input": "2024-06-21T14:21:39.922746Z",
          "iopub.status.busy": "2024-06-21T14:21:39.922456Z",
          "iopub.status.idle": "2024-06-21T14:21:39.950245Z",
          "shell.execute_reply": "2024-06-21T14:21:39.949070Z",
          "shell.execute_reply.started": "2024-06-21T14:21:39.922722Z"
        },
        "id": "KN8daJw6z-cL",
        "outputId": "7aef5cdf-5509-4983-f89a-9c75ce81f181",
        "trusted": true
      },
      "outputs": [
        {
          "name": "stdout",
          "output_type": "stream",
          "text": [
            "Index(['Chardonnay', 'Pinot Noir', 'Cabernet Sauvignon', 'Red Blend'], dtype='object', name='variety')\n"
          ]
        }
      ],
      "source": [
        "temp_df = wine_df['variety'].value_counts()\n",
        "top4 = temp_df.index[:4]\n",
        "print(top4)"
      ]
    },
    {
      "cell_type": "code",
      "execution_count": null,
      "metadata": {
        "execution": {
          "iopub.execute_input": "2024-06-21T14:21:39.951749Z",
          "iopub.status.busy": "2024-06-21T14:21:39.951407Z",
          "iopub.status.idle": "2024-06-21T14:21:39.979972Z",
          "shell.execute_reply": "2024-06-21T14:21:39.979083Z",
          "shell.execute_reply.started": "2024-06-21T14:21:39.951713Z"
        },
        "id": "hp3AJwmSz-cL",
        "trusted": true
      },
      "outputs": [],
      "source": [
        "wine_df = wine_df[wine_df['variety'].isin(top4)]"
      ]
    },
    {
      "cell_type": "code",
      "execution_count": null,
      "metadata": {
        "colab": {
          "base_uri": "https://localhost:8080/",
          "height": 466
        },
        "execution": {
          "iopub.execute_input": "2024-06-21T14:21:39.981417Z",
          "iopub.status.busy": "2024-06-21T14:21:39.981163Z",
          "iopub.status.idle": "2024-06-21T14:21:40.218431Z",
          "shell.execute_reply": "2024-06-21T14:21:40.217560Z",
          "shell.execute_reply.started": "2024-06-21T14:21:39.981395Z"
        },
        "id": "ikp9BwBVz-cM",
        "outputId": "67f37f83-35cd-4c3b-c572-f0207189ef49",
        "trusted": true
      },
      "outputs": [
        {
          "data": {
            "text/plain": [
              "<Axes: xlabel='variety', ylabel='count'>"
            ]
          },
          "execution_count": 46,
          "metadata": {},
          "output_type": "execute_result"
        },
        {
          "data": {
            "image/png": "[encoded data removed]",
            "text/plain": [
              "<Figure size 640x480 with 1 Axes>"
            ]
          },
          "metadata": {},
          "output_type": "display_data"
        }
      ],
      "source": [
        "# Count plot\n",
        "import seaborn as sns\n",
        "import matplotlib.pyplot as plt\n",
        "\n",
        "sns.countplot(wine_df, x='variety')"
      ]
    },
    {
      "cell_type": "code",
      "execution_count": null,
      "metadata": {
        "execution": {
          "iopub.execute_input": "2024-06-21T14:21:40.219887Z",
          "iopub.status.busy": "2024-06-21T14:21:40.219575Z",
          "iopub.status.idle": "2024-06-21T14:21:40.265957Z",
          "shell.execute_reply": "2024-06-21T14:21:40.265250Z",
          "shell.execute_reply.started": "2024-06-21T14:21:40.219863Z"
        },
        "id": "khJv_SUBz-cM",
        "trusted": true
      },
      "outputs": [],
      "source": [
        "cabernet_sauvignon_df = wine_df[wine_df['variety'] == 'Cabernet Sauvignon']\n",
        "pinot_noir_df = wine_df[wine_df['variety'] == 'Pinot Noir']\n",
        "chardonnay_df = wine_df[wine_df['variety'] == 'Chardonnay']\n",
        "red_blend_df = wine_df[wine_df['variety'] == 'Red Blend']"
      ]
    },
    {
      "cell_type": "code",
      "execution_count": null,
      "metadata": {
        "execution": {
          "iopub.execute_input": "2024-06-21T14:21:40.267326Z",
          "iopub.status.busy": "2024-06-21T14:21:40.267002Z",
          "iopub.status.idle": "2024-06-21T14:21:40.279961Z",
          "shell.execute_reply": "2024-06-21T14:21:40.279089Z",
          "shell.execute_reply.started": "2024-06-21T14:21:40.267302Z"
        },
        "id": "KxuIjK-nz-cM",
        "trusted": true
      },
      "outputs": [],
      "source": [
        "cabernet_sauvignon_df = cabernet_sauvignon_df.sample(n=len(red_blend_df), random_state=42)\n",
        "pinot_noir_df = pinot_noir_df.sample(n=len(red_blend_df), random_state=42)\n",
        "chardonnay_df = chardonnay_df.sample(n=len(red_blend_df), random_state=42)"
      ]
    },
    {
      "cell_type": "code",
      "execution_count": null,
      "metadata": {
        "colab": {
          "base_uri": "https://localhost:8080/",
          "height": 466
        },
        "execution": {
          "iopub.execute_input": "2024-06-21T14:21:40.281410Z",
          "iopub.status.busy": "2024-06-21T14:21:40.281141Z",
          "iopub.status.idle": "2024-06-21T14:21:40.493141Z",
          "shell.execute_reply": "2024-06-21T14:21:40.492201Z",
          "shell.execute_reply.started": "2024-06-21T14:21:40.281388Z"
        },
        "id": "QcZIWQ4fz-cM",
        "outputId": "8c35f1ad-35de-4c28-faf8-06c715996ba3",
        "trusted": true
      },
      "outputs": [
        {
          "data": {
            "text/plain": [
              "<Axes: xlabel='variety', ylabel='count'>"
            ]
          },
          "execution_count": 49,
          "metadata": {},
          "output_type": "execute_result"
        },
        {
          "data": {
            "image/png": "[encoded data removed]",
            "text/plain": [
              "<Figure size 640x480 with 1 Axes>"
            ]
          },
          "metadata": {},
          "output_type": "display_data"
        }
      ],
      "source": [
        "wine_df = pd.concat([cabernet_sauvignon_df, pinot_noir_df, chardonnay_df, red_blend_df])\n",
        "\n",
        "sns.countplot(wine_df, x='variety')"
      ]
    },
    {
      "cell_type": "markdown",
      "source": [
        "# **Data Target Class Encoding**"
      ],
      "metadata": {
        "id": "Fu9X25S-Yt8j"
      }
    },
    {
      "cell_type": "code",
      "execution_count": null,
      "metadata": {
        "colab": {
          "base_uri": "https://localhost:8080/"
        },
        "execution": {
          "iopub.execute_input": "2024-06-21T14:21:40.514466Z",
          "iopub.status.busy": "2024-06-21T14:21:40.513744Z",
          "iopub.status.idle": "2024-06-21T14:21:40.537013Z",
          "shell.execute_reply": "2024-06-21T14:21:40.536103Z",
          "shell.execute_reply.started": "2024-06-21T14:21:40.514436Z"
        },
        "id": "0rDvtfXAz-cM",
        "outputId": "4500fbe0-bba7-4f56-9ff4-d9a68ed9af54",
        "trusted": true
      },
      "outputs": [
        {
          "name": "stdout",
          "output_type": "stream",
          "text": [
            "4\n"
          ]
        }
      ],
      "source": [
        "from sklearn.preprocessing import LabelEncoder\n",
        "\n",
        "label_encoder = LabelEncoder()\n",
        "label_encoder.fit(wine_df['variety'])\n",
        "\n",
        "wine_df['variety'] = label_encoder.transform(wine_df['variety'])\n",
        "print(len(label_encoder.classes_))"
      ]
    },
    {
      "cell_type": "markdown",
      "source": [
        "# **Data Splitting (Train, Validation, Test)**"
      ],
      "metadata": {
        "id": "B6zb_oq9Y2cw"
      }
    },
    {
      "cell_type": "code",
      "execution_count": null,
      "metadata": {
        "execution": {
          "iopub.execute_input": "2024-06-21T14:21:40.541800Z",
          "iopub.status.busy": "2024-06-21T14:21:40.541476Z",
          "iopub.status.idle": "2024-06-21T14:21:40.561324Z",
          "shell.execute_reply": "2024-06-21T14:21:40.560358Z",
          "shell.execute_reply.started": "2024-06-21T14:21:40.541778Z"
        },
        "id": "r9fPV4YWz-cM",
        "trusted": true
      },
      "outputs": [],
      "source": [
        "from sklearn.model_selection import train_test_split\n",
        "\n",
        "X_train, X_temp, y_train, y_temp = train_test_split(\n",
        "    wine_df['description'],\n",
        "    wine_df['variety'],\n",
        "    test_size=0.2,\n",
        "    random_state=42\n",
        ")\n",
        "\n",
        "X_val, X_test, y_val, y_test = train_test_split(\n",
        "    X_temp,\n",
        "    y_temp,\n",
        "    test_size=0.5,\n",
        "    random_state=42\n",
        ")\n",
        "\n",
        "wine_train_df = pd.DataFrame({'description': X_train, 'variety': y_train})\n",
        "wine_val_df = pd.DataFrame({'description': X_val, 'variety': y_val})\n",
        "wine_test_df = pd.DataFrame({'description': X_test, 'variety': y_test})"
      ]
    },
    {
      "cell_type": "markdown",
      "source": [
        "# **Creating the Classifier Model**"
      ],
      "metadata": {
        "id": "fnotupyeY_iZ"
      }
    },
    {
      "cell_type": "code",
      "execution_count": null,
      "metadata": {
        "execution": {
          "iopub.execute_input": "2024-06-21T14:21:40.562799Z",
          "iopub.status.busy": "2024-06-21T14:21:40.562509Z",
          "iopub.status.idle": "2024-06-21T14:21:41.005474Z",
          "shell.execute_reply": "2024-06-21T14:21:41.004671Z",
          "shell.execute_reply.started": "2024-06-21T14:21:40.562776Z"
        },
        "id": "dZnMWX3tz-cM",
        "trusted": true
      },
      "outputs": [],
      "source": [
        "import numpy as np\n",
        "from transformers import DistilBertTokenizerFast, DistilBertModel\n",
        "\n",
        "tokenizer = DistilBertTokenizerFast.from_pretrained('distilbert-base-uncased')\n",
        "distilbert = DistilBertModel.from_pretrained('distilbert-base-uncased')\n",
        "\n",
        "max_length_from_data = np.max([wine_train_df['description'].apply(len).max(), wine_test_df['description'].apply(len).max()])"
      ]
    },
    {
      "cell_type": "code",
      "execution_count": null,
      "metadata": {
        "execution": {
          "iopub.execute_input": "2024-06-21T14:21:41.007335Z",
          "iopub.status.busy": "2024-06-21T14:21:41.006992Z",
          "iopub.status.idle": "2024-06-21T14:21:41.015879Z",
          "shell.execute_reply": "2024-06-21T14:21:41.015015Z",
          "shell.execute_reply.started": "2024-06-21T14:21:41.007309Z"
        },
        "id": "PVLtTwlZz-cN",
        "trusted": true
      },
      "outputs": [],
      "source": [
        "import torch.nn as nn\n",
        "\n",
        "class WineVarietyClassifier(nn.Module):\n",
        "    def __init__(self, n_classes):\n",
        "        super(WineVarietyClassifier, self).__init__()\n",
        "        self.distilbert = distilbert\n",
        "        self.dropout1 = nn.Dropout(0.5)\n",
        "        self.dropout2 = nn.Dropout(0.5)\n",
        "        self.batch_norm1 = nn.BatchNorm1d(distilbert.config.hidden_size)\n",
        "        self.batch_norm2 = nn.BatchNorm1d(128)\n",
        "        self.hidden_linear = nn.Linear(distilbert.config.hidden_size, 128)\n",
        "        self.classifier = nn.Linear(128, n_classes)\n",
        "        self.softmax = nn.Softmax(dim=1)\n",
        "\n",
        "    def forward(self, input_ids, attention_mask):\n",
        "        outputs = self.distilbert(input_ids=input_ids, attention_mask=attention_mask)\n",
        "        outputs = outputs.last_hidden_state[:, 0, :]\n",
        "        outputs = self.batch_norm1(outputs)\n",
        "        outputs = self.dropout1(outputs)\n",
        "        outputs = self.hidden_linear(outputs)\n",
        "        outputs = self.batch_norm2(outputs)\n",
        "        outputs = self.dropout2(outputs)\n",
        "        outputs = self.classifier(outputs)\n",
        "        outputs = self.softmax(outputs)\n",
        "        return outputs"
      ]
    },
    {
      "cell_type": "code",
      "execution_count": null,
      "metadata": {
        "execution": {
          "iopub.execute_input": "2024-06-21T14:21:41.017169Z",
          "iopub.status.busy": "2024-06-21T14:21:41.016888Z",
          "iopub.status.idle": "2024-06-21T14:21:41.101633Z",
          "shell.execute_reply": "2024-06-21T14:21:41.100733Z",
          "shell.execute_reply.started": "2024-06-21T14:21:41.017147Z"
        },
        "id": "pmbhJ9Yrz-cN",
        "trusted": true
      },
      "outputs": [],
      "source": [
        "device = (\n",
        "    \"cuda\"\n",
        "    if torch.cuda.is_available()\n",
        "    else \"mps\"\n",
        "    if torch.backends.mps.is_available()\n",
        "    else \"cpu\"\n",
        ")\n",
        "\n",
        "n_classes = len(label_encoder.classes_)\n",
        "model = WineVarietyClassifier(n_classes)\n",
        "model = model.to(device)"
      ]
    },
    {
      "cell_type": "markdown",
      "source": [
        "# **Creating Custom Wine Dataset for Pytorch**"
      ],
      "metadata": {
        "id": "QXFOXtG9ZGGS"
      }
    },
    {
      "cell_type": "code",
      "execution_count": null,
      "metadata": {
        "execution": {
          "iopub.execute_input": "2024-06-21T14:21:41.103015Z",
          "iopub.status.busy": "2024-06-21T14:21:41.102750Z",
          "iopub.status.idle": "2024-06-21T14:21:41.110180Z",
          "shell.execute_reply": "2024-06-21T14:21:41.109271Z",
          "shell.execute_reply.started": "2024-06-21T14:21:41.102993Z"
        },
        "id": "TmK8lAaDz-cN",
        "trusted": true
      },
      "outputs": [],
      "source": [
        "from torch.utils.data import Dataset\n",
        "\n",
        "class CustomWineDataset(Dataset):\n",
        "    def __init__(self, dataframe, tokenizer, max_length):\n",
        "        self.tokenizer = tokenizer\n",
        "        self.dataframe = dataframe\n",
        "        self.max_length = max_length\n",
        "\n",
        "    def __len__(self):\n",
        "        return len(self.dataframe)\n",
        "\n",
        "    def __getitem__(self, idx):\n",
        "        description = self.dataframe['description'].iloc[idx]\n",
        "\n",
        "        inputs = self.tokenizer(\n",
        "            description,\n",
        "            return_tensors='pt',\n",
        "            truncation=True,\n",
        "            max_length=self.max_length if self.max_length < 512 else 512,\n",
        "            padding='max_length'\n",
        "        )\n",
        "\n",
        "        return {\n",
        "            'input_ids': inputs['input_ids'].flatten(),\n",
        "            'attention_mask': inputs['attention_mask'].flatten(),\n",
        "            'variety': torch.tensor(self.dataframe['variety'].iloc[idx], dtype=torch.long)\n",
        "        }"
      ]
    },
    {
      "cell_type": "code",
      "execution_count": null,
      "metadata": {
        "execution": {
          "iopub.execute_input": "2024-06-21T14:21:41.111500Z",
          "iopub.status.busy": "2024-06-21T14:21:41.111249Z",
          "iopub.status.idle": "2024-06-21T14:21:41.121597Z",
          "shell.execute_reply": "2024-06-21T14:21:41.120749Z",
          "shell.execute_reply.started": "2024-06-21T14:21:41.111479Z"
        },
        "id": "H9z0c8_2z-cN",
        "trusted": true
      },
      "outputs": [],
      "source": [
        "wine_train_dataset = CustomWineDataset(wine_train_df, tokenizer, max_length_from_data)\n",
        "wine_val_dataset = CustomWineDataset(wine_val_df, tokenizer, max_length_from_data)\n",
        "wine_test_dataset = CustomWineDataset(wine_test_df, tokenizer, max_length_from_data)"
      ]
    },
    {
      "cell_type": "markdown",
      "source": [
        "# **Set Hyperparameters, Loss, and Optimizer Functions**"
      ],
      "metadata": {
        "id": "5jsWyBf5ZOJS"
      }
    },
    {
      "cell_type": "code",
      "execution_count": null,
      "metadata": {
        "execution": {
          "iopub.execute_input": "2024-06-21T14:21:41.122762Z",
          "iopub.status.busy": "2024-06-21T14:21:41.122516Z",
          "iopub.status.idle": "2024-06-21T14:21:41.132551Z",
          "shell.execute_reply": "2024-06-21T14:21:41.131681Z",
          "shell.execute_reply.started": "2024-06-21T14:21:41.122741Z"
        },
        "id": "0mxfFjrZz-cN",
        "trusted": true
      },
      "outputs": [],
      "source": [
        "learning_rate = 1e-5\n",
        "batch_size = 16\n",
        "epochs = 10"
      ]
    },
    {
      "cell_type": "markdown",
      "source": [
        "**Create Dataloaders for dataset**"
      ],
      "metadata": {
        "id": "BVYOGShjZim6"
      }
    },
    {
      "cell_type": "code",
      "execution_count": null,
      "metadata": {
        "execution": {
          "iopub.execute_input": "2024-06-21T14:21:41.135255Z",
          "iopub.status.busy": "2024-06-21T14:21:41.134658Z",
          "iopub.status.idle": "2024-06-21T14:21:41.145894Z",
          "shell.execute_reply": "2024-06-21T14:21:41.145077Z",
          "shell.execute_reply.started": "2024-06-21T14:21:41.135226Z"
        },
        "id": "6_vh-Engz-cN",
        "trusted": true
      },
      "outputs": [],
      "source": [
        "from torch.utils.data import DataLoader\n",
        "\n",
        "wine_train_dataloader = DataLoader(wine_train_dataset, batch_size=batch_size, shuffle=True)\n",
        "wine_val_dataloader = DataLoader(wine_val_dataset, batch_size=batch_size, shuffle=False)\n",
        "wine_test_dataloader = DataLoader(wine_test_dataset, batch_size=batch_size, shuffle=False)"
      ]
    },
    {
      "cell_type": "code",
      "execution_count": null,
      "metadata": {
        "execution": {
          "iopub.execute_input": "2024-06-21T14:21:41.147205Z",
          "iopub.status.busy": "2024-06-21T14:21:41.146935Z",
          "iopub.status.idle": "2024-06-21T14:21:41.159362Z",
          "shell.execute_reply": "2024-06-21T14:21:41.158719Z",
          "shell.execute_reply.started": "2024-06-21T14:21:41.147184Z"
        },
        "id": "L6AflVKWz-cN",
        "trusted": true
      },
      "outputs": [],
      "source": [
        "loss_fn = nn.CrossEntropyLoss()\n",
        "optimizer = torch.optim.Adam(model.parameters(), lr=learning_rate)"
      ]
    },
    {
      "cell_type": "markdown",
      "source": [
        "# **Define Train, Validation, and Test Loop**"
      ],
      "metadata": {
        "id": "ZhSRmXwYZqjC"
      }
    },
    {
      "cell_type": "code",
      "execution_count": null,
      "metadata": {
        "execution": {
          "iopub.execute_input": "2024-06-21T14:21:41.161211Z",
          "iopub.status.busy": "2024-06-21T14:21:41.160886Z",
          "iopub.status.idle": "2024-06-21T14:21:41.172699Z",
          "shell.execute_reply": "2024-06-21T14:21:41.172017Z",
          "shell.execute_reply.started": "2024-06-21T14:21:41.161183Z"
        },
        "id": "fIkekxlKz-cN",
        "trusted": true
      },
      "outputs": [],
      "source": [
        "def train_loop(dataloader, model: WineVarietyClassifier, loss_fn, optimizer):\n",
        "    size = len(dataloader.dataset)\n",
        "    # Set the model to training mode - important for batch normalization and dropout layers\n",
        "    model.train()\n",
        "    for batch, data in enumerate(dataloader):\n",
        "        input_ids = data['input_ids']\n",
        "        input_ids = input_ids.to(device)\n",
        "\n",
        "        attention_mask = data['attention_mask']\n",
        "        attention_mask = attention_mask.to(device)\n",
        "\n",
        "        variety = data['variety']\n",
        "        variety = variety.to(device)\n",
        "\n",
        "        # Compute prediction and loss\n",
        "        pred = model(input_ids, attention_mask)\n",
        "        loss = loss_fn(pred, variety)\n",
        "\n",
        "        # Backpropagation\n",
        "        loss.backward()\n",
        "        optimizer.step()\n",
        "        optimizer.zero_grad()\n",
        "\n",
        "        if batch % 100 == 0:\n",
        "            loss, current = loss.item(), batch * batch_size + len(input_ids)\n",
        "            print(f\"loss: {loss:>7f}  [{current:>5d}/{size:>5d}]\")"
      ]
    },
    {
      "cell_type": "code",
      "execution_count": null,
      "metadata": {
        "execution": {
          "iopub.execute_input": "2024-06-21T14:21:41.173831Z",
          "iopub.status.busy": "2024-06-21T14:21:41.173608Z",
          "iopub.status.idle": "2024-06-21T14:21:41.191407Z",
          "shell.execute_reply": "2024-06-21T14:21:41.190605Z",
          "shell.execute_reply.started": "2024-06-21T14:21:41.173812Z"
        },
        "id": "9hdHi83vz-cN",
        "trusted": true
      },
      "outputs": [],
      "source": [
        "def val_loop(dataloader, model, loss_fn):\n",
        "    # Set the model to evaluation mode - important for batch normalization and dropout layers\n",
        "    model.eval()\n",
        "    size = len(dataloader.dataset)\n",
        "    num_batches = len(dataloader)\n",
        "    val_loss, correct = 0, 0\n",
        "\n",
        "    # Evaluating the model with torch.no_grad() ensures that no gradients are computed during test mode\n",
        "    # also serves to reduce unnecessary gradient computations and memory usage for tensors with requires_grad=True\n",
        "    with torch.no_grad():\n",
        "        for data in dataloader:\n",
        "            input_ids = data['input_ids']\n",
        "            input_ids = input_ids.to(device)\n",
        "\n",
        "            attention_mask = data['attention_mask']\n",
        "            attention_mask = attention_mask.to(device)\n",
        "\n",
        "            variety = data['variety']\n",
        "            variety = variety.to(device)\n",
        "\n",
        "            pred = model(input_ids, attention_mask)\n",
        "            val_loss += loss_fn(pred, variety).item()\n",
        "            correct += (pred.argmax(1) == variety).type(torch.float).sum().item()\n",
        "\n",
        "    val_loss /= num_batches\n",
        "    correct /= size\n",
        "    print(f\"Validation Error: \\nAccuracy: {(100*correct):>0.1f}%, Avg loss: {val_loss:>8f} \\n\")"
      ]
    },
    {
      "cell_type": "markdown",
      "source": [
        "# **Training the model**"
      ],
      "metadata": {
        "id": "gyLyQGeDZwbK"
      }
    },
    {
      "cell_type": "code",
      "execution_count": null,
      "metadata": {
        "colab": {
          "base_uri": "https://localhost:8080/"
        },
        "execution": {
          "iopub.execute_input": "2024-06-21T14:21:41.192782Z",
          "iopub.status.busy": "2024-06-21T14:21:41.192538Z",
          "iopub.status.idle": "2024-06-21T18:20:38.055861Z",
          "shell.execute_reply": "2024-06-21T18:20:38.054789Z",
          "shell.execute_reply.started": "2024-06-21T14:21:41.192763Z"
        },
        "id": "4AgPll0Dz-cN",
        "outputId": "1d73404e-31aa-4bd3-ae8a-b8a3550e5f6b",
        "trusted": true
      },
      "outputs": [
        {
          "name": "stdout",
          "output_type": "stream",
          "text": [
            "Epoch 1\n",
            "-------------------------------\n",
            "loss: 1.378436  [   16/32198]\n",
            "loss: 1.362466  [ 1616/32198]\n",
            "loss: 1.061935  [ 3216/32198]\n",
            "loss: 1.042823  [ 4816/32198]\n",
            "loss: 0.907935  [ 6416/32198]\n",
            "loss: 0.936212  [ 8016/32198]\n",
            "loss: 0.801385  [ 9616/32198]\n",
            "loss: 0.906141  [11216/32198]\n",
            "loss: 0.819512  [12816/32198]\n",
            "loss: 0.902911  [14416/32198]\n",
            "loss: 0.918661  [16016/32198]\n",
            "loss: 0.974886  [17616/32198]\n",
            "loss: 0.876030  [19216/32198]\n",
            "loss: 0.958255  [20816/32198]\n",
            "loss: 0.900768  [22416/32198]\n",
            "loss: 0.774633  [24016/32198]\n",
            "loss: 0.816566  [25616/32198]\n",
            "loss: 1.050287  [27216/32198]\n",
            "loss: 0.922513  [28816/32198]\n",
            "loss: 0.841473  [30416/32198]\n",
            "loss: 0.786434  [32016/32198]\n",
            "Validation Error: \n",
            "Accuracy: 88.0%, Avg loss: 0.863648 \n",
            "\n",
            "Epoch 2\n",
            "-------------------------------\n",
            "loss: 0.813495  [   16/32198]\n",
            "loss: 0.764240  [ 1616/32198]\n",
            "loss: 0.925380  [ 3216/32198]\n",
            "loss: 0.887637  [ 4816/32198]\n",
            "loss: 0.757571  [ 6416/32198]\n",
            "loss: 0.835974  [ 8016/32198]\n",
            "loss: 0.830089  [ 9616/32198]\n",
            "loss: 0.781599  [11216/32198]\n",
            "loss: 1.034384  [12816/32198]\n",
            "loss: 0.906595  [14416/32198]\n",
            "loss: 0.884673  [16016/32198]\n",
            "loss: 0.759639  [17616/32198]\n",
            "loss: 0.879954  [19216/32198]\n",
            "loss: 0.826440  [20816/32198]\n",
            "loss: 0.847802  [22416/32198]\n",
            "loss: 0.820950  [24016/32198]\n",
            "loss: 0.866526  [25616/32198]\n",
            "loss: 0.782173  [27216/32198]\n",
            "loss: 0.848667  [28816/32198]\n",
            "loss: 0.919979  [30416/32198]\n",
            "loss: 0.756646  [32016/32198]\n",
            "Validation Error: \n",
            "Accuracy: 90.0%, Avg loss: 0.843688 \n",
            "\n",
            "Epoch 3\n",
            "-------------------------------\n",
            "loss: 0.858353  [   16/32198]\n",
            "loss: 0.785580  [ 1616/32198]\n",
            "loss: 0.926084  [ 3216/32198]\n",
            "loss: 1.057546  [ 4816/32198]\n",
            "loss: 0.943730  [ 6416/32198]\n",
            "loss: 0.817502  [ 8016/32198]\n",
            "loss: 0.819036  [ 9616/32198]\n",
            "loss: 0.748117  [11216/32198]\n",
            "loss: 0.827380  [12816/32198]\n",
            "loss: 0.928006  [14416/32198]\n",
            "loss: 0.802621  [16016/32198]\n",
            "loss: 0.809029  [17616/32198]\n",
            "loss: 0.965027  [19216/32198]\n",
            "loss: 0.770558  [20816/32198]\n",
            "loss: 0.774949  [22416/32198]\n",
            "loss: 0.795742  [24016/32198]\n",
            "loss: 0.760473  [25616/32198]\n",
            "loss: 0.942738  [27216/32198]\n",
            "loss: 0.751041  [28816/32198]\n",
            "loss: 0.864180  [30416/32198]\n",
            "loss: 0.815536  [32016/32198]\n",
            "Validation Error: \n",
            "Accuracy: 90.8%, Avg loss: 0.835405 \n",
            "\n",
            "Epoch 4\n",
            "-------------------------------\n",
            "loss: 0.817439  [   16/32198]\n",
            "loss: 0.814256  [ 1616/32198]\n",
            "loss: 0.810859  [ 3216/32198]\n",
            "loss: 0.763814  [ 4816/32198]\n",
            "loss: 0.807603  [ 6416/32198]\n",
            "loss: 0.809214  [ 8016/32198]\n",
            "loss: 0.882129  [ 9616/32198]\n",
            "loss: 0.746268  [11216/32198]\n",
            "loss: 0.745692  [12816/32198]\n",
            "loss: 0.749980  [14416/32198]\n",
            "loss: 0.929080  [16016/32198]\n",
            "loss: 0.748223  [17616/32198]\n",
            "loss: 0.915770  [19216/32198]\n",
            "loss: 0.809001  [20816/32198]\n",
            "loss: 0.808065  [22416/32198]\n",
            "loss: 0.813029  [24016/32198]\n",
            "loss: 0.905061  [25616/32198]\n",
            "loss: 0.827147  [27216/32198]\n",
            "loss: 0.745066  [28816/32198]\n",
            "loss: 0.744904  [30416/32198]\n",
            "loss: 0.869761  [32016/32198]\n",
            "Validation Error: \n",
            "Accuracy: 90.8%, Avg loss: 0.835638 \n",
            "\n",
            "Epoch 5\n",
            "-------------------------------\n",
            "loss: 0.811967  [   16/32198]\n",
            "loss: 0.760887  [ 1616/32198]\n",
            "loss: 0.745829  [ 3216/32198]\n",
            "loss: 0.907621  [ 4816/32198]\n",
            "loss: 0.808663  [ 6416/32198]\n",
            "loss: 0.745646  [ 8016/32198]\n",
            "loss: 0.807559  [ 9616/32198]\n",
            "loss: 0.752007  [11216/32198]\n",
            "loss: 0.807362  [12816/32198]\n",
            "loss: 0.802090  [14416/32198]\n",
            "loss: 0.803146  [16016/32198]\n",
            "loss: 0.871574  [17616/32198]\n",
            "loss: 0.746084  [19216/32198]\n",
            "loss: 0.875616  [20816/32198]\n",
            "loss: 0.838214  [22416/32198]\n",
            "loss: 0.760660  [24016/32198]\n",
            "loss: 0.760324  [25616/32198]\n",
            "loss: 0.868728  [27216/32198]\n",
            "loss: 0.747715  [28816/32198]\n",
            "loss: 0.871873  [30416/32198]\n",
            "loss: 0.814049  [32016/32198]\n",
            "Validation Error: \n",
            "Accuracy: 91.6%, Avg loss: 0.827180 \n",
            "\n",
            "Epoch 6\n",
            "-------------------------------\n",
            "loss: 0.807329  [   16/32198]\n",
            "loss: 0.810969  [ 1616/32198]\n",
            "loss: 0.746301  [ 3216/32198]\n",
            "loss: 0.879024  [ 4816/32198]\n",
            "loss: 0.808984  [ 6416/32198]\n",
            "loss: 0.746306  [ 8016/32198]\n",
            "loss: 0.857142  [ 9616/32198]\n",
            "loss: 0.746914  [11216/32198]\n",
            "loss: 0.915852  [12816/32198]\n",
            "loss: 0.803288  [14416/32198]\n",
            "loss: 0.807204  [16016/32198]\n",
            "loss: 0.866026  [17616/32198]\n",
            "loss: 0.746539  [19216/32198]\n",
            "loss: 0.752144  [20816/32198]\n",
            "loss: 0.806830  [22416/32198]\n",
            "loss: 0.796612  [24016/32198]\n",
            "loss: 0.809028  [25616/32198]\n",
            "loss: 0.828768  [27216/32198]\n",
            "loss: 0.805822  [28816/32198]\n",
            "loss: 0.748252  [30416/32198]\n",
            "loss: 0.749617  [32016/32198]\n",
            "Validation Error: \n",
            "Accuracy: 91.7%, Avg loss: 0.826366 \n",
            "\n",
            "Epoch 7\n",
            "-------------------------------\n",
            "loss: 0.745224  [   16/32198]\n",
            "loss: 0.811628  [ 1616/32198]\n",
            "loss: 0.744960  [ 3216/32198]\n",
            "loss: 0.747940  [ 4816/32198]\n",
            "loss: 0.836012  [ 6416/32198]\n",
            "loss: 0.982427  [ 8016/32198]\n",
            "loss: 0.803645  [ 9616/32198]\n",
            "loss: 0.811210  [11216/32198]\n",
            "loss: 0.809870  [12816/32198]\n",
            "loss: 0.804270  [14416/32198]\n",
            "loss: 0.786381  [16016/32198]\n",
            "loss: 0.930475  [17616/32198]\n",
            "loss: 0.781318  [19216/32198]\n",
            "loss: 0.745802  [20816/32198]\n",
            "loss: 0.806993  [22416/32198]\n",
            "loss: 0.855310  [24016/32198]\n",
            "loss: 0.810692  [25616/32198]\n",
            "loss: 0.744680  [27216/32198]\n",
            "loss: 0.756527  [28816/32198]\n",
            "loss: 0.806204  [30416/32198]\n",
            "loss: 0.806769  [32016/32198]\n",
            "Validation Error: \n",
            "Accuracy: 92.1%, Avg loss: 0.821150 \n",
            "\n",
            "Epoch 8\n",
            "-------------------------------\n",
            "loss: 0.805603  [   16/32198]\n",
            "loss: 0.805652  [ 1616/32198]\n",
            "loss: 0.743966  [ 3216/32198]\n",
            "loss: 0.928311  [ 4816/32198]\n",
            "loss: 0.744751  [ 6416/32198]\n",
            "loss: 0.869503  [ 8016/32198]\n",
            "loss: 0.869025  [ 9616/32198]\n",
            "loss: 0.746493  [11216/32198]\n",
            "loss: 0.744410  [12816/32198]\n",
            "loss: 0.748286  [14416/32198]\n",
            "loss: 0.743987  [16016/32198]\n",
            "loss: 0.806299  [17616/32198]\n",
            "loss: 0.744465  [19216/32198]\n",
            "loss: 0.806776  [20816/32198]\n",
            "loss: 0.805999  [22416/32198]\n",
            "loss: 0.744876  [24016/32198]\n",
            "loss: 0.808579  [25616/32198]\n",
            "loss: 0.806213  [27216/32198]\n",
            "loss: 0.847101  [28816/32198]\n",
            "loss: 0.806461  [30416/32198]\n",
            "loss: 0.818558  [32016/32198]\n",
            "Validation Error: \n",
            "Accuracy: 92.0%, Avg loss: 0.822027 \n",
            "\n",
            "Epoch 9\n",
            "-------------------------------\n",
            "loss: 0.746017  [   16/32198]\n",
            "loss: 0.865301  [ 1616/32198]\n",
            "loss: 0.814656  [ 3216/32198]\n",
            "loss: 0.812575  [ 4816/32198]\n",
            "loss: 0.808160  [ 6416/32198]\n",
            "loss: 0.869727  [ 8016/32198]\n",
            "loss: 0.758153  [ 9616/32198]\n",
            "loss: 0.807617  [11216/32198]\n",
            "loss: 0.815226  [12816/32198]\n",
            "loss: 0.879533  [14416/32198]\n",
            "loss: 0.873014  [16016/32198]\n",
            "loss: 0.745217  [17616/32198]\n",
            "loss: 0.807166  [19216/32198]\n",
            "loss: 0.744152  [20816/32198]\n",
            "loss: 0.743846  [22416/32198]\n",
            "loss: 0.930552  [24016/32198]\n",
            "loss: 0.931468  [25616/32198]\n",
            "loss: 0.912796  [27216/32198]\n",
            "loss: 0.865613  [28816/32198]\n",
            "loss: 0.867491  [30416/32198]\n",
            "loss: 0.869365  [32016/32198]\n",
            "Validation Error: \n",
            "Accuracy: 92.5%, Avg loss: 0.817310 \n",
            "\n",
            "Epoch 10\n",
            "-------------------------------\n",
            "loss: 0.746703  [   16/32198]\n",
            "loss: 0.814478  [ 1616/32198]\n",
            "loss: 0.746086  [ 3216/32198]\n",
            "loss: 0.806204  [ 4816/32198]\n",
            "loss: 0.746258  [ 6416/32198]\n",
            "loss: 0.747707  [ 8016/32198]\n",
            "loss: 0.806843  [ 9616/32198]\n",
            "loss: 0.808971  [11216/32198]\n",
            "loss: 0.810759  [12816/32198]\n",
            "loss: 0.744100  [14416/32198]\n",
            "loss: 0.871151  [16016/32198]\n",
            "loss: 0.813231  [17616/32198]\n",
            "loss: 0.933192  [19216/32198]\n",
            "loss: 0.768908  [20816/32198]\n",
            "loss: 0.806426  [22416/32198]\n",
            "loss: 0.869015  [24016/32198]\n",
            "loss: 0.744211  [25616/32198]\n",
            "loss: 0.748600  [27216/32198]\n",
            "loss: 0.806768  [28816/32198]\n",
            "loss: 0.806907  [30416/32198]\n",
            "loss: 0.743997  [32016/32198]\n",
            "Validation Error: \n",
            "Accuracy: 91.6%, Avg loss: 0.826187 \n",
            "\n",
            "Done!\n"
          ]
        }
      ],
      "source": [
        "for t in range(epochs):\n",
        "    print(f\"Epoch {t+1}\\n-------------------------------\")\n",
        "    train_loop(wine_train_dataloader, model, loss_fn, optimizer)\n",
        "    val_loop(wine_val_dataloader, model, loss_fn)\n",
        "\n",
        "print(\"Done!\")"
      ]
    },
    {
      "cell_type": "code",
      "execution_count": null,
      "metadata": {
        "execution": {
          "iopub.execute_input": "2024-06-21T18:20:38.058444Z",
          "iopub.status.busy": "2024-06-21T18:20:38.057522Z",
          "iopub.status.idle": "2024-06-21T18:20:38.067328Z",
          "shell.execute_reply": "2024-06-21T18:20:38.066158Z",
          "shell.execute_reply.started": "2024-06-21T18:20:38.058393Z"
        },
        "trusted": true,
        "id": "WN0APlnCWxd_"
      },
      "outputs": [],
      "source": [
        "def test_loop(dataloader, model):\n",
        "    # Set the model to evaluation mode - important for batch normalization and dropout layers\n",
        "    model.eval()\n",
        "\n",
        "    # Lists to store predictions and actual values\n",
        "    y_pred = []\n",
        "    y_true = []\n",
        "\n",
        "    # Evaluating the model with torch.no_grad() ensures that no gradients are computed during test mode\n",
        "    with torch.no_grad():\n",
        "        for data in dataloader:\n",
        "            input_ids = data['input_ids'].to(device)\n",
        "            attention_mask = data['attention_mask'].to(device)\n",
        "            variety = data['variety'].to(device)\n",
        "\n",
        "            # Make predictions\n",
        "            outputs = model(input_ids, attention_mask)\n",
        "\n",
        "            # Get the predicted class (argmax of the output)\n",
        "            predictions = outputs.argmax(dim=1)\n",
        "\n",
        "            # Append predictions and actual values to the lists\n",
        "            y_pred.extend(predictions.cpu().numpy())\n",
        "            y_true.extend(variety.cpu().numpy())\n",
        "\n",
        "    return y_pred, y_true"
      ]
    },
    {
      "cell_type": "markdown",
      "source": [
        "# **Testing and Evaluation**"
      ],
      "metadata": {
        "id": "aPO6umrcZ2GS"
      }
    },
    {
      "cell_type": "code",
      "execution_count": null,
      "metadata": {
        "execution": {
          "iopub.execute_input": "2024-06-21T18:20:38.068808Z",
          "iopub.status.busy": "2024-06-21T18:20:38.068523Z",
          "iopub.status.idle": "2024-06-21T18:21:41.839442Z",
          "shell.execute_reply": "2024-06-21T18:21:41.838660Z",
          "shell.execute_reply.started": "2024-06-21T18:20:38.068785Z"
        },
        "trusted": true,
        "id": "Pi9JtBcGWxd_"
      },
      "outputs": [],
      "source": [
        "y_pred, y_true = test_loop(wine_test_dataloader, model)"
      ]
    },
    {
      "cell_type": "code",
      "execution_count": null,
      "metadata": {
        "execution": {
          "iopub.execute_input": "2024-06-21T18:21:41.840761Z",
          "iopub.status.busy": "2024-06-21T18:21:41.840491Z",
          "iopub.status.idle": "2024-06-21T18:21:41.850754Z",
          "shell.execute_reply": "2024-06-21T18:21:41.849758Z",
          "shell.execute_reply.started": "2024-06-21T18:21:41.840738Z"
        },
        "trusted": true,
        "id": "FyhY-gdXWxd_",
        "outputId": "b91791b0-c3d2-45e2-a3bd-9b7978b304d1"
      },
      "outputs": [
        {
          "name": "stdout",
          "output_type": "stream",
          "text": [
            "[[926   1  27  73]\n",
            " [ 14 977   4   2]\n",
            " [ 93   5 872  32]\n",
            " [ 99   4  21 875]]\n"
          ]
        }
      ],
      "source": [
        "from sklearn.metrics import confusion_matrix\n",
        "\n",
        "print(confusion_matrix(y_true, y_pred))"
      ]
    },
    {
      "cell_type": "code",
      "execution_count": null,
      "metadata": {
        "execution": {
          "iopub.execute_input": "2024-06-21T18:21:41.852175Z",
          "iopub.status.busy": "2024-06-21T18:21:41.851859Z",
          "iopub.status.idle": "2024-06-21T18:21:41.879663Z",
          "shell.execute_reply": "2024-06-21T18:21:41.878816Z",
          "shell.execute_reply.started": "2024-06-21T18:21:41.852153Z"
        },
        "trusted": true,
        "id": "Oz7Wy2vpWxeA",
        "outputId": "94af295b-7a00-48fd-a827-ca7570609214"
      },
      "outputs": [
        {
          "name": "stdout",
          "output_type": "stream",
          "text": [
            "                    precision    recall  f1-score   support\n",
            "\n",
            "Cabernet Sauvignon       0.82      0.90      0.86      1027\n",
            "        Chardonnay       0.99      0.98      0.98       997\n",
            "        Pinot Noir       0.94      0.87      0.91      1002\n",
            "         Red Blend       0.89      0.88      0.88       999\n",
            "\n",
            "          accuracy                           0.91      4025\n",
            "         macro avg       0.91      0.91      0.91      4025\n",
            "      weighted avg       0.91      0.91      0.91      4025\n",
            "\n"
          ]
        }
      ],
      "source": [
        "from sklearn.metrics import classification_report\n",
        "\n",
        "target_names = label_encoder.inverse_transform(range(4))\n",
        "print(classification_report(y_true, y_pred, target_names=target_names))"
      ]
    }
  ],
  "metadata": {
    "accelerator": "GPU",
    "colab": {
      "gpuType": "T4",
      "provenance": []
    },
    "kaggle": {
      "accelerator": "nvidiaTeslaT4",
      "dataSources": [
        {
          "datasetId": 1442,
          "sourceId": 8172,
          "sourceType": "datasetVersion"
        },
        {
          "datasetId": 5248812,
          "sourceId": 8742178,
          "sourceType": "datasetVersion"
        }
      ],
      "dockerImageVersionId": 30733,
      "isGpuEnabled": true,
      "isInternetEnabled": true,
      "language": "python",
      "sourceType": "notebook"
    },
    "kernelspec": {
      "display_name": "Python 3",
      "language": "python",
      "name": "python3"
    },
    "language_info": {
      "codemirror_mode": {
        "name": "ipython",
        "version": 3
      },
      "file_extension": ".py",
      "mimetype": "text/x-python",
      "name": "python",
      "nbconvert_exporter": "python",
      "pygments_lexer": "ipython3",
      "version": "3.10.13"
    }
  },
  "nbformat": 4,
  "nbformat_minor": 0
}